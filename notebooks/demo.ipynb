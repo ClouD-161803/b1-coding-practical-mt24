{
 "cells": [
  {
   "cell_type": "code",
   "execution_count": 7,
   "metadata": {},
   "outputs": [
    {
     "name": "stdout",
     "output_type": "stream",
     "text": [
      "The autoreload extension is already loaded. To reload it, use:\n",
      "  %reload_ext autoreload\n"
     ]
    }
   ],
   "source": [
    "# Add relevant Jupyter notebook extensions\n",
    "%load_ext autoreload\n",
    "%autoreload 2"
   ]
  },
  {
   "cell_type": "code",
   "execution_count": 8,
   "metadata": {},
   "outputs": [
    {
     "name": "stdout",
     "output_type": "stream",
     "text": [
      "c:\\Users\\cvest\\Claudio\\Oxford\\3rd Year\\B1\\b1-coding-practical-mt24\\notebooks\n",
      "C:\\Users\\cvest\\Claudio\\Oxford\\3rd Year\\B1\\b1-coding-practical-mt24\n",
      "c:\\Users\\cvest\\anaconda3\\envs\\a2e\\python311.zip\n",
      "c:\\Users\\cvest\\anaconda3\\envs\\a2e\\DLLs\n",
      "c:\\Users\\cvest\\anaconda3\\envs\\a2e\\Lib\n",
      "c:\\Users\\cvest\\anaconda3\\envs\\a2e\n",
      "\n",
      "c:\\Users\\cvest\\anaconda3\\envs\\a2e\\Lib\\site-packages\n",
      "c:\\Users\\cvest\\anaconda3\\envs\\a2e\\Lib\\site-packages\\win32\n",
      "c:\\Users\\cvest\\anaconda3\\envs\\a2e\\Lib\\site-packages\\win32\\lib\n",
      "c:\\Users\\cvest\\anaconda3\\envs\\a2e\\Lib\\site-packages\\Pythonwin\n"
     ]
    }
   ],
   "source": [
    "# You can double-check your Python path like this...\n",
    "import sys\n",
    "print(\"\\n\".join(sys.path))"
   ]
  },
  {
   "cell_type": "markdown",
   "metadata": {},
   "source": [
    "# Simulate closed-loop\n",
    "After implementing your control functionality, you can simulate the closed-loop with code that looks something like this..."
   ]
  },
  {
   "cell_type": "code",
   "execution_count": 9,
   "metadata": {},
   "outputs": [
    {
     "data": {
      "text/plain": [
       "'\\n# Import relevant modules\\nfrom uuv_mission import Submarine, Trajectory, Mission, ClosedLoop\\n\\nsub = Submarine()\\n# Instantiate your controller (depending on your implementation)\\nclosed_loop = ClosedLoop(sub, controller)\\nmission = Mission.from_csv(\"path/to/file\") # You must implement this method in the Mission class\\n\\ntrajectory = closed_loop.simulate_with_random_disturbances(mission)\\ntrajectory.plot_completed_mission(mission)\\n'"
      ]
     },
     "execution_count": 9,
     "metadata": {},
     "output_type": "execute_result"
    }
   ],
   "source": [
    "\"\"\"\n",
    "# Import relevant modules\n",
    "from uuv_mission import Submarine, Trajectory, Mission, ClosedLoop\n",
    "\n",
    "sub = Submarine()\n",
    "# Instantiate your controller (depending on your implementation)\n",
    "closed_loop = ClosedLoop(sub, controller)\n",
    "mission = Mission.from_csv(\"path/to/file\") # You must implement this method in the Mission class\n",
    "\n",
    "trajectory = closed_loop.simulate_with_random_disturbances(mission)\n",
    "trajectory.plot_completed_mission(mission)\n",
    "\"\"\""
   ]
  },
  {
   "cell_type": "code",
   "execution_count": null,
   "metadata": {},
   "outputs": [],
   "source": []
  }
 ],
 "metadata": {
  "kernelspec": {
   "display_name": "a2e",
   "language": "python",
   "name": "python3"
  },
  "language_info": {
   "codemirror_mode": {
    "name": "ipython",
    "version": 3
   },
   "file_extension": ".py",
   "mimetype": "text/x-python",
   "name": "python",
   "nbconvert_exporter": "python",
   "pygments_lexer": "ipython3",
   "version": "3.11.4"
  }
 },
 "nbformat": 4,
 "nbformat_minor": 2
}
